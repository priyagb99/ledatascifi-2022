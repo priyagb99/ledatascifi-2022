{
 "cells": [
  {
   "cell_type": "markdown",
   "metadata": {},
   "source": [
    "# Summary and Resources\n",
    "\n",
    "Now,\n",
    "\n",
    "1. You can fit a regression with `statsmodels` or `sklearn`\n",
    "2. You can view the results visually or numerically of your model with either method\n",
    "5. You can measure the goodness of fit on a regression\n",
    "3. You can interpret the mechanical meaning of the coefficients for\n",
    "4. You understand what a t-stat / p-value does and does not tell you\n",
    "6. You are aware of common regression analysis pitfalls and disasters\n"
   ]
  },
  {
   "cell_type": "markdown",
   "metadata": {},
   "source": [
    "\n",
    "### Extra reading and practice on the topic\n",
    "\n",
    "1. [Chapters 22-24 of R 4 Data Science](https://r4ds.had.co.nz/model-intro.html) are an excellent overview of the thought process of modeling\n",
    "2. Use `statsmodels.api` to make nice regression tables by [following this guide](https://python.quantecon.org/ols.html) (you can use different data though). I used this to [create the table on the goodness of fit page](02c_goodnessOfFit)\n",
    "3. [Arthur Turrell's chapter on regression and python.](https://aeturrell.github.io/coding-for-economists/econmt-regression.html#)"
   ]
  },
  {
   "cell_type": "markdown",
   "metadata": {},
   "source": [
    "## Acknowledgments \n",
    "\n",
    "- The demo on diamonds is borrowed from [R4DS](https://r4ds.had.co.nz).\n",
    "- [DS100](https://www.textbook.ds100.org/intro)\n",
    "- Alberto Rossi provided excellent lecture notes  \n"
   ]
  }
 ],
 "metadata": {
  "celltoolbar": "Tags",
  "kernelspec": {
   "display_name": "Python 3 (ipykernel)",
   "language": "python",
   "name": "python3"
  },
  "language_info": {
   "codemirror_mode": {
    "name": "ipython",
    "version": 3
   },
   "file_extension": ".py",
   "mimetype": "text/x-python",
   "name": "python",
   "nbconvert_exporter": "python",
   "pygments_lexer": "ipython3",
   "version": "3.8.12"
  }
 },
 "nbformat": 4,
 "nbformat_minor": 4
}
