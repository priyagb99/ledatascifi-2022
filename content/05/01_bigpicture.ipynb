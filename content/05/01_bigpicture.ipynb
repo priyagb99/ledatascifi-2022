{
 "cells": [
  {
   "cell_type": "markdown",
   "metadata": {},
   "source": [
    "#  Modeling and Teamwork\n",
    "\n",
    "Machine learning can generate solutions to problems at scales that are cost prohibitive otherwise. For example, the earliest (and ongoing) waves of ML in the finance space includes\n",
    "\n",
    "1. Robo-advising (Acorns, Betterment, Wealthfront, etc.) \n",
    "2. Manage risk (loans and insurance) to reduce write-offs and lower costs for consumers\n",
    "3. Prevent and detect fraud (external and internal)\n",
    "4. Investment choices - stocks, real estates (where to put factories, banks, etc)\n",
    "5. Improve advertising offers to credit customers\n",
    "\n",
    "[Accenture thinks AI will add **$140B** of](https://www.forbes.com/sites/donnafuscaldo/2019/12/19/ais-promise-140-billion-in-productivity-gains-for-financial-services-firms/#576a08fe3533) value to financial service firms alone via cost and productivity savings by 2025. \n",
    "\n",
    "```{epigraph}\n",
    "Don't you want to capture a little of that?\n",
    "\n",
    "This subsection is about setting the stage so we can start to apply our skills to the types of problems whose solutions will make big impacts.\n",
    "\n",
    "```\n",
    "\n"
   ]
  },
  {
   "cell_type": "markdown",
   "metadata": {},
   "source": [
    "\n",
    "```{seealso}\n",
    "1. [Principles of good data analysis, by Greg Reda](http://www.gregreda.com/2014/03/23/principles-of-good-data-analysis/)\n",
    "2. [Chapter 3 of Data 100](https://www.textbook.ds100.org/ch/04/modeling_intro.html)\n",
    "3. [How Big Investors Cash in on Alternative Data](https://www.bloomberg.com/news/articles/2019-11-09/how-big-investors-cash-in-on-alternative-data-quicktake)\n",
    "```\n"
   ]
  }
 ],
 "metadata": {
  "kernelspec": {
   "display_name": "Python 3 (ipykernel)",
   "language": "python",
   "name": "python3"
  },
  "language_info": {
   "codemirror_mode": {
    "name": "ipython",
    "version": 3
   },
   "file_extension": ".py",
   "mimetype": "text/x-python",
   "name": "python",
   "nbconvert_exporter": "python",
   "pygments_lexer": "ipython3",
   "version": "3.8.12"
  }
 },
 "nbformat": 4,
 "nbformat_minor": 4
}
