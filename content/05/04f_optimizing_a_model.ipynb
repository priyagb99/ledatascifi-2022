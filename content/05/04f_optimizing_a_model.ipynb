{
 "cells": [
  {
   "cell_type": "markdown",
   "metadata": {},
   "source": [
    "# Optimizing a Model\n",
    "\n",
    "This page covers:\n",
    "- `<pipeline>.get_params()` to find parameters in your pipeline to optimize\n",
    "- Setting up and fitting `GridSearchCV()` to find optimal parameters\n",
    "- Getting the best model after the grid search via `.best_estimator_` \n",
    "\n",
    "```{admonition}\n",
    ":class: seealso\n",
    "The [sk-learn](https://scikit-learn.org/stable/modules/grid_search.html#grid-search) docs on hypertuning. \n",
    "```\n",
    "\n",
    "Lets load the data [we've been using.](04e_pipelines) (The code is here but hidden.)"
   ]
  },
  {
   "cell_type": "code",
   "execution_count": 1,
   "metadata": {
    "tags": [
     "hide-input"
    ]
   },
   "outputs": [],
   "source": [
    "import pandas as pd\n",
    "import numpy as np\n",
    "from sklearn.linear_model import Ridge\n",
    "from sklearn.model_selection import train_test_split, GridSearchCV\n",
    "from sklearn.pipeline import make_pipeline \n",
    "from sklearn.impute import SimpleImputer\n",
    "from sklearn.compose import ColumnTransformer, make_column_selector\n",
    "from sklearn.preprocessing import OneHotEncoder\n",
    "from sklearn.metrics import r2_score\n"
   ]
  },
  {
   "cell_type": "code",
   "execution_count": 2,
   "metadata": {
    "tags": [
     "hide-input"
    ]
   },
   "outputs": [],
   "source": [
    "url        = 'https://github.com/LeDataSciFi/ledatascifi-2022/blob/main/data/Fannie_Mae_Plus_Data.gzip?raw=true'\n",
    "fannie_mae = pd.read_csv(url,compression='gzip').dropna()\n",
    "y          = fannie_mae.Original_Interest_Rate\n",
    "\n",
    "# reduce to a different set of vars than the prior pages the slow way\n",
    "drop = ['Loan_Identifier','Loan_purpose','Origination_Channel', 'Seller_Name', 'Property_type', 'Occupancy_type',\n",
    "       'Zip_code_short','Product_type','Co-borrower_credit_score_at_origination', 'Mortgage_Insurance_type',\n",
    "       'Origination_Date', 'First_payment_date','Original_Interest_Rate','UNRATE', 'CPIAUCSL', 'Qdate', 'rGDP', 'TCMR', 'POILWTIUSDM', 'TTLCONS',\n",
    "       'DEXUSEU', 'BOPGSTB', 'GOLDAMGBD228NLBM', 'CSUSHPISA', 'MSPUS',]\n",
    "fannie_mae = fannie_mae.drop(drop,axis=1)\n",
    "fannie_mae = (fannie_mae\n",
    "              .assign(l_credscore = np.log(fannie_mae['Borrower_Credit_Score_at_Origination']),\n",
    "                      l_LTV = np.log(fannie_mae['Original_LTV_(OLTV)']),\n",
    "                     )\n",
    "             )\n",
    "\n",
    "# test-train\n",
    "rng = np.random.RandomState(0) # this helps us control the randomness so we can reproduce results exactly\n",
    "X_train, X_test, y_train, y_test = train_test_split( fannie_mae , y, random_state=rng)"
   ]
  },
  {
   "cell_type": "markdown",
   "metadata": {},
   "source": [
    "Let's set up our model. For simplicity, this model just imputes missing values of (all) numerical variables and then OneHotEncodes the state variable. Here is "
   ]
  },
  {
   "cell_type": "code",
   "execution_count": 3,
   "metadata": {},
   "outputs": [],
   "source": [
    "preproc_pipe = ColumnTransformer(  \n",
    "    [ # new here: make_column_selector grabs all columns of a type\n",
    "    (\"num_impute\",SimpleImputer(), make_column_selector(dtype_include=np.number)),\n",
    "    (\"cat_trans\", OneHotEncoder(drop='first'), ['Property_state'])\n",
    "    ]\n",
    "    , remainder = 'drop' \n",
    ")\n",
    "\n",
    "ridge_pipe = make_pipeline(preproc_pipe,Ridge(1.0,\n",
    "                                              tol=1e-10))\n",
    "# A \"technical\" point on \"tol\" is hidden below"
   ]
  },
  {
   "cell_type": "code",
   "execution_count": 4,
   "metadata": {
    "tags": [
     "hide-input"
    ]
   },
   "outputs": [],
   "source": [
    "# it turns out that the tolerance setting matters a lot! \n",
    "# the default tolerance (1e-3) is not enough to allow the estimator to find improvements here\n",
    "# You can see this this way: run r2_score with tol 1e-3 and alpha 1, then alpha 100. \n",
    "# You'll get the same results indicating that alpha doesn't change the estimation when the \n",
    "# tolerance is weaker (1e-3 isnt as demanding as 1e-10)"
   ]
  },
  {
   "cell_type": "markdown",
   "metadata": {},
   "source": [
    "Let's use the model and compute its performance. "
   ]
  },
  {
   "cell_type": "code",
   "execution_count": 5,
   "metadata": {},
   "outputs": [
    {
     "data": {
      "text/plain": [
       "0.31696581904124665"
      ]
     },
     "execution_count": 5,
     "metadata": {},
     "output_type": "execute_result"
    }
   ],
   "source": [
    "ridge_pipe.fit(X_train, y_train)\n",
    "r2_score(y_test,ridge_pipe.predict(X_test,))"
   ]
  },
  {
   "cell_type": "markdown",
   "metadata": {},
   "source": [
    "## The hyperparameters of a model"
   ]
  },
  {
   "cell_type": "markdown",
   "metadata": {},
   "source": [
    "```{note}\n",
    "How this pipeline estimator performs _depends on parameters for each step, **which we call \"hyperparameters\" in this context.**_\n",
    "```\n",
    "\n",
    "For example, the `Ridge()` model's key parameter is \"alpha\", and changing it will change its results. But it's not the only parameter that can change the results of this pipeline.\n",
    "\n",
    "```{warning}\n",
    "Now, look how many parameters this tiny three-step model (impute, encode, ridge regression) has!\n",
    "```"
   ]
  },
  {
   "cell_type": "code",
   "execution_count": 6,
   "metadata": {},
   "outputs": [
    {
     "data": {
      "text/plain": [
       "Pipeline(steps=[('columntransformer',\n",
       "                 ColumnTransformer(transformers=[('num_impute', SimpleImputer(),\n",
       "                                                  <sklearn.compose._column_transformer.make_column_selector object at 0x00000276C62507C0>),\n",
       "                                                 ('cat_trans',\n",
       "                                                  OneHotEncoder(drop='first'),\n",
       "                                                  ['Property_state'])])),\n",
       "                ('ridge', Ridge(tol=1e-10))])"
      ]
     },
     "execution_count": 6,
     "metadata": {},
     "output_type": "execute_result"
    }
   ],
   "source": [
    "ridge_pipe # Pipeline \"steps\" is a list of tuples: [(name,transformer),(name,transformer),...,(name,estimator)]"
   ]
  },
  {
   "cell_type": "markdown",
   "metadata": {},
   "source": [
    "```{tip}\n",
    "Use `<pipename>.get_params()` to figure out the names for parameters that you'll explore with `gridsearchcv()`. I usually copy+paste the names straight off the printout. \n",
    "```"
   ]
  },
  {
   "cell_type": "code",
   "execution_count": 7,
   "metadata": {},
   "outputs": [
    {
     "data": {
      "text/plain": [
       "{'memory': None,\n",
       " 'steps': [('columntransformer',\n",
       "   ColumnTransformer(transformers=[('num_impute', SimpleImputer(),\n",
       "                                    <sklearn.compose._column_transformer.make_column_selector object at 0x00000276C62507C0>),\n",
       "                                   ('cat_trans', OneHotEncoder(drop='first'),\n",
       "                                    ['Property_state'])])),\n",
       "  ('ridge', Ridge(tol=1e-10))],\n",
       " 'verbose': False,\n",
       " 'columntransformer': ColumnTransformer(transformers=[('num_impute', SimpleImputer(),\n",
       "                                  <sklearn.compose._column_transformer.make_column_selector object at 0x00000276C62507C0>),\n",
       "                                 ('cat_trans', OneHotEncoder(drop='first'),\n",
       "                                  ['Property_state'])]),\n",
       " 'ridge': Ridge(tol=1e-10),\n",
       " 'columntransformer__n_jobs': None,\n",
       " 'columntransformer__remainder': 'drop',\n",
       " 'columntransformer__sparse_threshold': 0.3,\n",
       " 'columntransformer__transformer_weights': None,\n",
       " 'columntransformer__transformers': [('num_impute',\n",
       "   SimpleImputer(),\n",
       "   <sklearn.compose._column_transformer.make_column_selector at 0x276c62507c0>),\n",
       "  ('cat_trans', OneHotEncoder(drop='first'), ['Property_state'])],\n",
       " 'columntransformer__verbose': False,\n",
       " 'columntransformer__num_impute': SimpleImputer(),\n",
       " 'columntransformer__cat_trans': OneHotEncoder(drop='first'),\n",
       " 'columntransformer__num_impute__add_indicator': False,\n",
       " 'columntransformer__num_impute__copy': True,\n",
       " 'columntransformer__num_impute__fill_value': None,\n",
       " 'columntransformer__num_impute__missing_values': nan,\n",
       " 'columntransformer__num_impute__strategy': 'mean',\n",
       " 'columntransformer__num_impute__verbose': 0,\n",
       " 'columntransformer__cat_trans__categories': 'auto',\n",
       " 'columntransformer__cat_trans__drop': 'first',\n",
       " 'columntransformer__cat_trans__dtype': numpy.float64,\n",
       " 'columntransformer__cat_trans__handle_unknown': 'error',\n",
       " 'columntransformer__cat_trans__sparse': True,\n",
       " 'ridge__alpha': 1.0,\n",
       " 'ridge__copy_X': True,\n",
       " 'ridge__fit_intercept': True,\n",
       " 'ridge__max_iter': None,\n",
       " 'ridge__normalize': False,\n",
       " 'ridge__random_state': None,\n",
       " 'ridge__solver': 'auto',\n",
       " 'ridge__tol': 1e-10}"
      ]
     },
     "execution_count": 7,
     "metadata": {},
     "output_type": "execute_result"
    }
   ],
   "source": [
    "ridge_pipe.get_params()"
   ]
  },
  {
   "cell_type": "markdown",
   "metadata": {},
   "source": [
    "That's a long list!\n",
    "\n",
    "So this pipeline has parameters for every function in the pipeline:\n",
    "- `ColumnTransformer()`'s \"remainder\" parameter is set above as \"drop\" (look for `columntransformer__remainder`) but you could have chosen \"passthrough\"\n",
    "    - The \"columntransformer__remainder\" name is: the function (columntransformer), two underscores, then the parameter name\n",
    "- `SimpleImputer()`'s \"strategy\" parameter is set above as \"mean\" (look for `columntransformer__num_impute__strategy`) but you could have chosen \"median\"\n",
    "    - The \"columntransformer__num_impute__strategy\" name is like this because the imputer is nested inside the column transformer (so \"columntransformer\" is before the impute with two underscores), and when I created `preproc_pipe`, I called the imputation step \"num_impute\"\n",
    "- `OneHotEncoder()`'s \"drop\" parameter is set to `None`\n",
    "- `Ridge()`'s \"alpha\" is set to 1.0. \n",
    "\n",
    "\n"
   ]
  },
  {
   "cell_type": "markdown",
   "metadata": {},
   "source": [
    "## Tuning hyperparameters\n",
    "\n",
    "The basic idea is to repeatedly run the pipeline through a cross-validation while changing the hyperparameters to improve your CV scores.\n",
    "\n",
    "To use GridSearchCV\n",
    "\n",
    "1. Set up your parameter grids (all of the parameters you would like to test). \n",
    "    - **Initially, cast a wide and sparse net.** \n",
    "    - After running it once, we can run it again with more parameter values in the regions that we think the best model is in.\n",
    "    - We will iterate on this, and repeat as needed...\n",
    "1. Set up GridSearchCV\n",
    "1. Get the search results by fitting GridSearchCV\n",
    "    - I like to visualize my CV scores on a y-axis and the parameters on the X-axis so that I know I'm at the global maximum. Just because you're at the top of a hill doesn't mean you're at the top of Everest. In math terminology, you don't want to find the local maximum, you want the global maximum:\n",
    "    ```{image} ./img/localmax.png\n",
    "    :alt: localmax\n",
    "    :width: 300px\n",
    "    :align: center\n",
    "    ```\n",
    "1. Examine the output\n",
    "1. Save the best parameters\n",
    "\n",
    "Let's optimize alpha and the imputation method."
   ]
  },
  {
   "cell_type": "code",
   "execution_count": 8,
   "metadata": {},
   "outputs": [
    {
     "data": {
      "text/plain": [
       "<AxesSubplot:title={'center':'CV score by alpha'}, xlabel='alpha'>"
      ]
     },
     "execution_count": 8,
     "metadata": {},
     "output_type": "execute_result"
    },
    {
     "data": {
      "image/png": "[encoded data removed]",
      "text/plain": [
       "<Figure size 432x288 with 1 Axes>"
      ]
     },
     "metadata": {
      "needs_background": "light"
     },
     "output_type": "display_data"
    }
   ],
   "source": [
    "# 1. Set up your parameter grids (all of the parameters you would like to test). \n",
    "\n",
    "alphas = list(np.linspace(0.0001,100,25)) # cast net wide and sparse (only 25 points)\n",
    "strats = ['mean','median']\n",
    "parameters = {'ridge__alpha': alphas,\n",
    "              'columntransformer__num_impute__strategy':strats\n",
    "             }\n",
    "\n",
    "# 2. Set up GridSearchCV\n",
    "\n",
    "grid_search = GridSearchCV(estimator = ridge_pipe, \n",
    "                           param_grid = parameters,\n",
    "                           cv = 5) # some folds with whatever the default is (look it up!)\n",
    "\n",
    "# 3. Get the search results by fitting GridSearchCV\n",
    "\n",
    "results = grid_search.fit(X_train,y_train)\n",
    "                           \n",
    "# 4. Examine the output\n",
    "\n",
    "results_df = pd.DataFrame(results.cv_results_).set_index('params')\n",
    "# extract alpha from the params variable\n",
    "results_df['alpha'] = [c['ridge__alpha'] for c in results_df.index]\n",
    "results_df = results_df.sort_values('alpha')\n",
    "results_df.plot(x='alpha',y='mean_test_score',kind='line',\n",
    "                title='CV score by alpha')\n",
    "\n",
    "# 5. Save the best parameters\n",
    "\n",
    "# (It's not time - this graph below doesn't look optimized, go \n",
    "# more to the left!)"
   ]
  },
  {
   "cell_type": "markdown",
   "metadata": {},
   "source": [
    "Clearly, the maximum is a very small alpha..."
   ]
  },
  {
   "cell_type": "code",
   "execution_count": 9,
   "metadata": {},
   "outputs": [],
   "source": [
    "alphas = list(np.linspace(0.000001,0.0001,25))\n"
   ]
  },
  {
   "cell_type": "code",
   "execution_count": 10,
   "metadata": {
    "tags": [
     "hide-input"
    ]
   },
   "outputs": [
    {
     "data": {
      "image/png": "[encoded data removed]",
      "text/plain": [
       "<Figure size 432x288 with 1 Axes>"
      ]
     },
     "metadata": {
      "needs_background": "light"
     },
     "output_type": "display_data"
    }
   ],
   "source": [
    "# 1. Set up your parameter grids (all of the parameters you would like to test). \n",
    "\n",
    "strats = ['mean','median']\n",
    "parameters = {'ridge__alpha': alphas,\n",
    "              'columntransformer__num_impute__strategy':strats\n",
    "             }\n",
    "\n",
    "# 2. Set up GridSearchCV\n",
    "\n",
    "grid_search = GridSearchCV(estimator = ridge_pipe, \n",
    "                           param_grid = parameters,\n",
    "                           cv = 5) # some folds with whatever the default is (look it up!)\n",
    "\n",
    "# 3. Get the search results by fitting GridSearchCV\n",
    "\n",
    "results = grid_search.fit(X_train,y_train)\n",
    "                           \n",
    "# 4. Save the best parameters\n",
    "\n",
    "results_df = pd.DataFrame(results.cv_results_).set_index('params')\n",
    "# extract alpha from the params variable\n",
    "results_df['alpha'] = [c['ridge__alpha'] for c in results_df.index]\n",
    "results_df['strat'] = [c['columntransformer__num_impute__strategy'] for c in results_df.index]\n",
    "\n",
    "results_df = results_df.sort_values('alpha')\n",
    "results_df.plot(x='alpha',y='mean_test_score',kind='line',\n",
    "                title='CV score by alpha')\n",
    "\n",
    "# 5. Save the best parameters\n",
    "\n",
    "best_ridge = results.best_estimator_ # saves the best gridsearch model \n"
   ]
  },
  {
   "cell_type": "markdown",
   "metadata": {},
   "source": [
    "You should examine performance as a function of the other params in your gridsearch too, but here, there are no missing values in the original data of X, so the imputation choice didn't matter!\n"
   ]
  },
  {
   "cell_type": "markdown",
   "metadata": {},
   "source": [
    "\n",
    "## Using tuned parameters\n",
    "\n",
    "So how did we do? We improved from 0.317 to 0.322, a 1.6% improvement for not much work!"
   ]
  },
  {
   "cell_type": "code",
   "execution_count": 11,
   "metadata": {},
   "outputs": [
    {
     "data": {
      "text/plain": [
       "0.3222479317272854"
      ]
     },
     "execution_count": 11,
     "metadata": {},
     "output_type": "execute_result"
    }
   ],
   "source": [
    "best_ridge.fit(X_train,y_train)      # train\n",
    "r2_score(y_test,best_ridge.predict(X_test,)) # examine out of sample\n"
   ]
  }
 ],
 "metadata": {
  "kernelspec": {
   "display_name": "Python 3 (ipykernel)",
   "language": "python",
   "name": "python3"
  },
  "language_info": {
   "codemirror_mode": {
    "name": "ipython",
    "version": 3
   },
   "file_extension": ".py",
   "mimetype": "text/x-python",
   "name": "python",
   "nbconvert_exporter": "python",
   "pygments_lexer": "ipython3",
   "version": "3.8.12"
  }
 },
 "nbformat": 4,
 "nbformat_minor": 4
}
