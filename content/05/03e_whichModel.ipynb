{
 "cells": [
  {
   "cell_type": "markdown",
   "metadata": {},
   "source": [
    "## Model selection\n",
    "\n",
    "[This pages is about step \\#4 of the flowchart.](03_ML) \n",
    "\n",
    "```{image} img/flowchart.png\n",
    ":alt: flowchart\n",
    ":width: 500px\n",
    "```\n",
    "\n",
    "You need to pick the right model for your job. One way to pick amongst the possible options is to consider whether or not you need a supervised model.\n",
    "\n",
    "There is frankly FAR too much material to cover on the variety of models, and so many sites provide good introductions to the available options. Two starter links are below. Here, I'm just going to post the dichotomy of ML models from [PythonDataScienceHandbook](https://jakevdp.github.io/PythonDataScienceHandbook/05.01-what-is-machine-learning.html), which I think is a good starting point for understanding the ecosystem of models. \n",
    "\n",
    "<p style=\"font-size:2em\"> A dichotomy of ML models </p> \n",
    "\n",
    "__*Supervised learning models*,__ try to predict _**\"labels\"**_ (you can think of these as $y$ values) based on training data that already has the $y$ variable in it (\"labeled data\"). E.g., \n",
    "- Regression: Predicting continuous labels \n",
    "- Classification: Predicting discrete categorical variables (two or more values)\n",
    "\n",
    "__*Unsupervised learning models*,__ build structure on unlabeled data. E.g.,\n",
    "- Clustering: Models that detect and identify distinct groups in the data\n",
    "- Dimensionality reduction: Models reduce the number of _**\"features\"**_ (variables)\n",
    "\n",
    "The [PythonDataScienceHandbook](https://jakevdp.github.io/PythonDataScienceHandbook/05.01-what-is-machine-learning.html) has a nice introductory list of example applications for ML techniques, and the [`sklearn` example page](https://scikit-learn.org/stable/auto_examples/index.html) has a rather comprehensive set of examples with code!\n",
    "\n"
   ]
  }
 ],
 "metadata": {
  "kernelspec": {
   "display_name": "Python 3 (ipykernel)",
   "language": "python",
   "name": "python3"
  },
  "language_info": {
   "codemirror_mode": {
    "name": "ipython",
    "version": 3
   },
   "file_extension": ".py",
   "mimetype": "text/x-python",
   "name": "python",
   "nbconvert_exporter": "python",
   "pygments_lexer": "ipython3",
   "version": "3.8.12"
  }
 },
 "nbformat": 4,
 "nbformat_minor": 4
}
