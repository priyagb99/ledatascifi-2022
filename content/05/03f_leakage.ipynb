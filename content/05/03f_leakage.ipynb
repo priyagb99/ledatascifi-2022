{
 "cells": [
  {
   "cell_type": "markdown",
   "metadata": {},
   "source": [
    "# The Cardinal Sin of ML: Data Leakage"
   ]
  },
  {
   "cell_type": "markdown",
   "metadata": {},
   "source": [
    "## Illustration\n",
    "\n",
    "The following catastrophe is brought to you by [Data Leakage](Data-Leakage) (TM), the \\#1 enemy of machine learners everywhere, recommended by 0 out of 10 dentists, and also, our sponsor Daisy Cottage Cheese:\n",
    "\n",
    "\n",
    "\n",
    "<iframe width=\"560\" height=\"315\" src=\"https://www.youtube.com/embed/mjWKddZ5vko\" title=\"YouTube video player\" frameborder=\"0\" allow=\"accelerometer; autoplay; clipboard-write; encrypted-media; gyroscope; picture-in-picture\" allowfullscreen></iframe>\n",
    "\n",
    "_(I'm sorry for putting that jingle in your head, so so sorry.)_\n",
    "\n",
    "---\n",
    "      \n",
    "      \n",
    "<ul class=\"screenbox\">\n",
    "<li class=\"sceneheader\">INT. DUNGY BASEMENT COMPUTER LAB</li>\n",
    "<li class=\"action\">We open as a light casts a glow over the face of a sweating programmer. A crushed  (finished) Red Bull is the only thing on the desk visible, besides 8,000 pieces of scrap paper. In the corner of a frame, a portion of a white board is visible - permanent smudges show that is has been heavily used.    \n",
    "</li>\n",
    "<li class=\"character\">(Unnamed programmer)</li>\n",
    "<li class=\"dialogue\">I have a plan. You and me, let's get rich! Who needs this grind?</li>\n",
    "<li class=\"action\">He fidgets. The red bull has him a little fritzy.</li>\n",
    "<li class=\"character\">(Unnamed programmer)</li>\n",
    "<li class=\"dialogue\">Seriously! I'm super good at coding, you stake me, and I'll build a stock prediction algo with fancy ML tools. I know all the super cool and trendy words that \"Wow!\" investors, so we'll probably get backers too!   </li>\n",
    "<li class=\"action\">His eyes search wantingly for any feedback from the unseen narrator. (TM-Christopher Nolan) </li>\n",
    "<li class=\"character\">(Unnamed programmer)</li>\n",
    "<li class=\"dialogue\">Here, let me show you. I'll use a model to predict daily returns for Microsoft. After downloading the data, we can use this fancy model:  </li>\n",
    "<li class=\"action\">He swivels his chair towards the computer. </li>\n",
    "<li class=\"transition \">\"Dramatic revealation\" music, camera pans and zooms onto the computer screen </li>\n",
    "\n",
    "</ul>\n",
    "      \n"
   ]
  },
  {
   "cell_type": "code",
   "execution_count": 1,
   "metadata": {
    "tags": [
     "hide-input"
    ]
   },
   "outputs": [],
   "source": [
    "import pandas_datareader as pdr  # to install: !pip install pandas_datareader\n",
    "from datetime import datetime\n",
    "from sklearn.metrics import r2_score\n",
    "from statsmodels.tsa.arima.model import ARIMA\n",
    "import numpy as np\n",
    "from tqdm import trange\n",
    "import warnings # suppress arima loop warning with these next 3 lines\n",
    "from statsmodels.tools.sm_exceptions import ConvergenceWarning\n",
    "warnings.simplefilter('ignore', ConvergenceWarning)\n",
    "\n",
    "# load stock returns \n",
    "start = datetime(2004, 1, 1)\n",
    "end = datetime(2007, 12, 31)\n",
    "stock_prices = pdr.get_data_yahoo(['MSFT'], start=start, end=end)\n",
    "stock_prices = stock_prices.filter(like='Adj Close') # reduce to just columns with this in the name\n",
    "stock_prices.columns = ['MSFT'] # put their tickers as column names\n",
    "stock_prices = stock_prices.stack().swaplevel().sort_index().reset_index()\n",
    "stock_prices.columns = ['Firm','Date','Adj Close']\n",
    "stock_prices['ret'] = stock_prices.groupby('Firm')['Adj Close'].pct_change()\n",
    "stock_prices = stock_prices.iloc[1:,:]\n",
    "\n",
    "# fit model and evaluate it to see the predictive power\n",
    "\n",
    "series = stock_prices.ret\n",
    "series.index = stock_prices.Date#.to_period('D')\n",
    "series.index = series.index.to_period('D')"
   ]
  },
  {
   "cell_type": "code",
   "execution_count": 2,
   "metadata": {},
   "outputs": [],
   "source": [
    "model = ARIMA(series, order=(4,0,1))\n",
    "model_fit = model.fit()\n",
    "predictions = model_fit.predict(start='2006-01-03')"
   ]
  },
  {
   "cell_type": "code",
   "execution_count": 3,
   "metadata": {
    "tags": [
     "hide-input"
    ]
   },
   "outputs": [
    {
     "name": "stdout",
     "output_type": "stream",
     "text": [
      "Heck yes! Our patent pending* ARIMA(3,0,1) model predicts\n",
      "next day stock returns with an R2 of...\n",
      "\n",
      "        R2=0.013!\n",
      "\n",
      "Can you FEEL the excitement!?\n",
      "\n",
      "\n",
      "Let's build this model and start trading our life's savings.\n",
      "We can use your Grandma's heirlooms as collateral and lever up for extra earnings!\n",
      "She would understand. In fact, she would be PROUD to contribute to the **cause**!\n",
      "\n",
      "...The year is 2006, the Day is Jan 3...\n",
      "\n",
      "...model loading...\n",
      "\n",
      "...model loading...\n",
      "\n",
      "...model ready! Lets start trading!...\n",
      "\n",
      "...Predicting Jan 4, buy/sell based on the prediction...\n",
      "\n",
      "...Now it is Jan 4, predicting Jan 5, buy/sell based on the prediction...\n",
      "\n",
      "...[A montage rolls, 2 years of Wolf of Wall Str insanity, as money flows from the coffers]...\n",
      "\n",
      "...We wake up on Dec 31 2007. Crazy two years. Lets see how we did!...\n",
      "\n",
      "===========================================================================\n",
      "\n",
      "Oops... Our model, used in the real world, had an R2 of...\n",
      "\n",
      "This cant be right!!!!\n",
      "\n",
      "        R2=-0.196\n",
      "\n",
      "Good thing Grandma wont know about this...\n"
     ]
    }
   ],
   "source": [
    "print(f'Heck yes! Our patent pending* ARIMA(3,0,1) model predicts')\n",
    "print(f'next day stock returns with an R2 of...\\n\\n        R2={r2_score(series[-len(predictions):],predictions).round(3)}!')\n",
    "print('\\nCan you FEEL the excitement!?')\n",
    "print(\"\\n\\nLet's build this model and start trading our life's savings.\\nWe can use your Grandma's heirlooms as collateral and lever up for extra earnings!\")\n",
    "print(\"She would understand. In fact, she would be PROUD to contribute to the **cause**!\")\n",
    "print('\\n...The year is 2006, the Day is Jan 3...\\n\\n...model loading...')\n",
    "print('\\n...model loading...')\n",
    "print('\\n...model ready! Lets start trading!...')\n",
    "print('\\n...Predicting Jan 4, buy/sell based on the prediction...')\n",
    "print('\\n...Now it is Jan 4, predicting Jan 5, buy/sell based on the prediction...')\n",
    "print('\\n...[A montage rolls, 2 years of Wolf of Wall Str insanity, as money flows from the coffers]...')\n",
    "print('\\n...We wake up on Dec 31 2007. Crazy two years. Lets see how we did!...')\n",
    "print('\\n===========================================================================')\n",
    "\n",
    "history   = series[:-len(predictions)]\n",
    "test_data = series[-len(predictions):]\n",
    "model_predictions = []\n",
    "for time_point in range(len(test_data)):\n",
    "    model = ARIMA(history, order=(4,1,0)) # use model on past\n",
    "    model_fit = model.fit()               # predict the future\n",
    "    model_predictions.append(model_fit.forecast()[0])  # store prediction\n",
    "    history = np.append(history,test_data[time_point]) # and reality\n",
    "    \n",
    "print('\\nOops... Our model, used in the real world, had an R2 of...')\n",
    "print('\\nThis cant be right!!!!')\n",
    "print(f'\\n        R2={r2_score(test_data,model_predictions).round(3)}')\n",
    "print('\\nGood thing Grandma wont know about this...')\n"
   ]
  },
  {
   "cell_type": "markdown",
   "metadata": {},
   "source": [
    "<ul class=\"screenbox\">\n",
    "<li class=\"transition \">QUICK FADE TO BLACK </li>\n",
    "<li class=\"transition \">IMMIGRANT SONG BY LED ZEPPELIN PLAYS OVER CREDITS </li>\n",
    "</ul>\n",
    "\n",
    "<iframe width=\"560\" height=\"315\" src=\"https://www.youtube.com/embed/y8OtzJtp-EM\" title=\"YouTube video player\" frameborder=\"0\" allow=\"accelerometer; autoplay; clipboard-write; encrypted-media; gyroscope; picture-in-picture\" allowfullscreen></iframe>\n"
   ]
  },
  {
   "cell_type": "markdown",
   "metadata": {},
   "source": [
    "--- \n",
    "\n",
    "##  Definition\n",
    "\n",
    "[Data leakage](https://scikit-learn.org/stable/common_pitfalls.html#data-leakage) \n",
    "\n",
    "> **is when information that would not be available at prediction time is used when building the model.** This results in overly optimistic performance estimates, for example from cross-validation, and thus poorer performance when the model is used on actually novel data, for example during production.\n",
    "\n",
    "Lessons:\n",
    "1. Keep the test and train data subsets separate\n",
    "1. Never call fit on the test data\n",
    "1. Data cleaning and transformation steps applied to the training data should not be learned from the test data\n",
    "\n",
    "The example above falls prey to data leakage because the testing data is the training data, rather than following the lessons above. \n",
    "\n",
    "[The next section](04a_SKLearn) of the book will explain how exactly to avoid all of these problems _with code_, but for now, let's just state the following warning:\n"
   ]
  },
  {
   "cell_type": "markdown",
   "metadata": {},
   "source": [
    "```{warning}\n",
    "The absolute golden rule of prediction modeling is...\n",
    "\n",
    "**YOUR MODEL CAN'T HAVE ACCESS TO ANY DATA THAT IT WOULDN'T HAVE IN PRACTICE WHEN IT MAKES THE PREDICTION.**\n",
    "```\n",
    "\n",
    "I know I already said that, and repetition is usually bad writing, but it must be said again. And again.\n",
    "\n",
    "That said, knowing that data leakage is bad doesn't mean it's easy to avoid.  \n",
    "\n",
    "Data leakage can sneak into your analysis in tricky ways:\n",
    "- The outcome variable is a predictor (implicitly or explicitly)\n",
    "- Predictor variables that are in response to the result (after the fact) or the possibility (anticipatory)\n",
    "- Predicting loan default, the data might include employee IDs for recent customer service contacts. But the most recent contact might be with trouble-loan specialists (because the firm anticipated possible default due to some other signal). Using that employee's customer contacts to predict default would add no value - the lender already knew to assign that employee!\n",
    "- The smell test: Is it too good to be true? I've seen some asset pricing models with suspicious out-of-sample R2s. Predicting stock prices is hard! _The best OOS predictive R2 for individual stocks [in this paper](https://dachxiu.chicagobooth.edu/download/ML.pdf) is 1.80% per month._"
   ]
  }
 ],
 "metadata": {
  "kernelspec": {
   "display_name": "Python 3 (ipykernel)",
   "language": "python",
   "name": "python3"
  },
  "language_info": {
   "codemirror_mode": {
    "name": "ipython",
    "version": 3
   },
   "file_extension": ".py",
   "mimetype": "text/x-python",
   "name": "python",
   "nbconvert_exporter": "python",
   "pygments_lexer": "ipython3",
   "version": "3.8.12"
  }
 },
 "nbformat": 4,
 "nbformat_minor": 4
}
