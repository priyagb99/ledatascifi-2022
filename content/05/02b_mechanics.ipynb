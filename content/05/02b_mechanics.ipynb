{
 "cells": [
  {
   "cell_type": "markdown",
   "metadata": {},
   "source": [
    "# Mechanics of running regressions\n",
    "\n",
    "```{note}\n",
    "These next few pages use a classic dataset called \"diamonds\" to introduce the regression methods. In lectures, we will use finance oriented data. \n",
    "```\n"
   ]
  },
  {
   "cell_type": "markdown",
   "metadata": {},
   "source": [
    "## Objectives\n",
    "\n",
    "After this page, \n",
    "\n",
    "1. You can fit a regression with `statsmodels` or `sklearn` that includes dummy variables, categorical variables, and interaction terms.\n",
    "    - `statsmodels`: Nicer result tables, usually easier to specifying the regression model\n",
    "    - `sklearn`: Easier to use within a prediction/ML exercise\n",
    "1. With both modules: You can view the results visually\n",
    "1. With both modules: You can get the coefficients, t-stats, R$^2$, Adj R$^2$, predicted values ($\\hat{y}$), and residuals ($\\hat{u}$)\n",
    "\n",
    "\n"
   ]
  },
  {
   "cell_type": "markdown",
   "metadata": {},
   "source": [
    "Let's get our hands dirty quickly by loading some data."
   ]
  },
  {
   "cell_type": "code",
   "execution_count": 1,
   "metadata": {},
   "outputs": [],
   "source": [
    "# load some data to practice regressions\n",
    "import seaborn as sns\n",
    "import numpy as np\n",
    "diamonds = sns.load_dataset('diamonds')\n",
    "\n",
    "# this alteration is not strictly necessary to practice a regression\n",
    "# but we use this in livecoding\n",
    "diamonds2 = (diamonds.query('carat < 2.5')               # censor/remove outliers\n",
    "            .assign(lprice = np.log(diamonds['price']))  # log transform price\n",
    "            .assign(lcarat = np.log(diamonds['carat']))  # log transform carats\n",
    "            .assign(ideal = diamonds['cut'] == 'Ideal') \n",
    "             \n",
    "             # some regression packages want you to explicitly provide \n",
    "             # a variable for the constant\n",
    "            .assign(const = 1)                           \n",
    "            )  \n"
   ]
  },
  {
   "cell_type": "markdown",
   "metadata": {},
   "source": [
    "\n",
    "## Our first regression with `statsmodels`\n",
    "\n",
    "You'll see these steps repeated a lot for the rest of the class:\n",
    "1. Load the module\n",
    "1. Load your data, and set up your y and X variables\n",
    "1. Pick the model, _usually something like:_ `model = <moduleEstimator>`\n",
    "1. Fit the model and store the results, _usually something like:_ `results = model.fit()`\n",
    "1. Get predicted values, _usually something like:_ `predicted = results.predict()`\n"
   ]
  },
  {
   "cell_type": "code",
   "execution_count": 2,
   "metadata": {},
   "outputs": [
    {
     "name": "stdout",
     "output_type": "stream",
     "text": [
      "                            OLS Regression Results                            \n",
      "==============================================================================\n",
      "Dep. Variable:                 lprice   R-squared:                       0.933\n",
      "Model:                            OLS   Adj. R-squared:                  0.933\n",
      "Method:                 Least Squares   F-statistic:                 7.542e+05\n",
      "Date:                Wed, 24 Mar 2021   Prob (F-statistic):               0.00\n",
      "Time:                        22:06:38   Log-Likelihood:                -4073.2\n",
      "No. Observations:               53797   AIC:                             8150.\n",
      "Df Residuals:                   53795   BIC:                             8168.\n",
      "Df Model:                           1                                         \n",
      "Covariance Type:            nonrobust                                         \n",
      "==============================================================================\n",
      "                 coef    std err          t      P>|t|      [0.025      0.975]\n",
      "------------------------------------------------------------------------------\n",
      "const          8.4525      0.001   6193.432      0.000       8.450       8.455\n",
      "lcarat         1.6819      0.002    868.465      0.000       1.678       1.686\n",
      "==============================================================================\n",
      "Omnibus:                      775.052   Durbin-Watson:                   1.211\n",
      "Prob(Omnibus):                  0.000   Jarque-Bera (JB):             1334.265\n",
      "Skew:                           0.106   Prob(JB):                    1.85e-290\n",
      "Kurtosis:                       3.742   Cond. No.                         2.10\n",
      "==============================================================================\n",
      "\n",
      "Notes:\n",
      "[1] Standard Errors assume that the covariance matrix of the errors is correctly specified.\n",
      "\n",
      "\n",
      "Params:\n",
      "const     8.452512\n",
      "lcarat    1.681936\n",
      "dtype: float64\n"
     ]
    }
   ],
   "source": [
    "import statsmodels.api as sm        # need this\n",
    "\n",
    "y = diamonds2['lprice']             # pick y\n",
    "X = diamonds2[['const','lcarat']]   # set up all your X vars as a matrix\n",
    "\n",
    "# NOTICE I EXPLICITLY GIVE X A CONSTANT SO IT FITS AN INTERCEPT\n",
    "\n",
    "model1 = sm.OLS(y,X)                # pick model type (OLS here) and specify model features\n",
    "results1 = model1.fit()             # estimate / fit\n",
    "print(results1.summary())           # view results (coefs, t-stats, p-vals, R2, Adj R2)\n",
    "y_predicted1 = results1.predict()   # get the predicted results\n",
    "residuals1 = results1.resid         # get the residuals\n",
    "#residuals1 = y - y_predicted1      # another way to get the residuals\n",
    "print('\\n\\nParams:')\n",
    "print(results1.params)              # if you need to access the coefficients (e.g. to save them), results.params\n"
   ]
  },
  {
   "cell_type": "markdown",
   "metadata": {},
   "source": [
    "## A better way to regress with `statsmodels`\n",
    "\n",
    "```{tip} \n",
    "This is my preferred way to run a regression in Python unless I _have_ to use sklearn.\n",
    "\n",
    "[The documentation with tricks and examples for how to write a regression formula with statsmodels is here.](https://www.statsmodels.org/stable/examples/notebooks/generated/formulas.html)\n",
    "```\n",
    "\n",
    "In the above, replace\n",
    "```python\n",
    "y = diamonds2['lprice']             # pick y\n",
    "X = diamonds2[['const','lcarat']]   # set up all your X vars as a matrix\n",
    "\n",
    "model1 = sm.OLS(y,X)                # pick model type (OLS here) and specify model features\n",
    "```\n",
    "with this\n",
    "```python\n",
    "model1 = sm.OLS.from_formula('lprice ~ lcarat',data=diamonds2)  \n",
    "```\n",
    "which I can replace with this (after adding `from statsmodels.formula.api import ols as sm_ols` to my imports)\n",
    "```python\n",
    "model1 = sm_ols('lprice ~ lcarat',data=diamonds2)  \n",
    "```\n",
    "\n",
    "**WOW!** This isn't just more convenient (1 line is less than 3), I like this because \n",
    "\n",
    "1. You can set up the model (the equation) more naturally. Notice that I didn't set up the y and X variables as explicit variables. Simply tell that $y=a+b*X+c*Z$ by writing out `y ~ X + Z`\n",
    "1. It allows you to **EASILY** include categorical variables (see below)\n",
    "1. It allows you to **EASILY** include interaction effects (see below)\n"
   ]
  },
  {
   "cell_type": "code",
   "execution_count": 3,
   "metadata": {
    "tags": [
     "hide-output"
    ]
   },
   "outputs": [
    {
     "name": "stdout",
     "output_type": "stream",
     "text": [
      "                            OLS Regression Results                            \n",
      "==============================================================================\n",
      "Dep. Variable:                 lprice   R-squared:                       0.933\n",
      "Model:                            OLS   Adj. R-squared:                  0.933\n",
      "Method:                 Least Squares   F-statistic:                 7.542e+05\n",
      "Date:                Wed, 24 Mar 2021   Prob (F-statistic):               0.00\n",
      "Time:                        22:06:38   Log-Likelihood:                -4073.2\n",
      "No. Observations:               53797   AIC:                             8150.\n",
      "Df Residuals:                   53795   BIC:                             8168.\n",
      "Df Model:                           1                                         \n",
      "Covariance Type:            nonrobust                                         \n",
      "==============================================================================\n",
      "                 coef    std err          t      P>|t|      [0.025      0.975]\n",
      "------------------------------------------------------------------------------\n",
      "Intercept      8.4525      0.001   6193.432      0.000       8.450       8.455\n",
      "lcarat         1.6819      0.002    868.465      0.000       1.678       1.686\n",
      "==============================================================================\n",
      "Omnibus:                      775.052   Durbin-Watson:                   1.211\n",
      "Prob(Omnibus):                  0.000   Jarque-Bera (JB):             1334.265\n",
      "Skew:                           0.106   Prob(JB):                    1.85e-290\n",
      "Kurtosis:                       3.742   Cond. No.                         2.10\n",
      "==============================================================================\n",
      "\n",
      "Notes:\n",
      "[1] Standard Errors assume that the covariance matrix of the errors is correctly specified.\n",
      "\n",
      "\n",
      "Params:\n",
      "Intercept    8.452512\n",
      "lcarat       1.681936\n",
      "dtype: float64\n"
     ]
    }
   ],
   "source": [
    "from statsmodels.formula.api import ols as sm_ols # need this\n",
    "\n",
    "model2   = sm_ols('lprice ~ lcarat',  # specify model (you don't need to include the constant!)\n",
    "                  data=diamonds2)\n",
    "results2 = model2.fit()               # estimate / fit\n",
    "print(results2.summary())             # view results ... identical to before\n",
    "y_predicted2 = results2.predict()     # get the predicted results\n",
    "residuals2 = results2.resid           # get the residuals\n",
    "#residuals1 = y - y_predicted1        # another way to get the residuals\n",
    "print('\\n\\nParams:')\n",
    "print(results2.params)                # if you need to access the coefficients (e.g. to save them), results.params\n"
   ]
  },
  {
   "cell_type": "markdown",
   "metadata": {},
   "source": [
    "```{note}\n",
    "We will cover what all these numbers mean later, but this page is focusing on the how-to.\n",
    "```"
   ]
  },
  {
   "cell_type": "markdown",
   "metadata": {},
   "source": [
    "## Regression with  `sklearn`\n",
    "\n",
    "`sklearn` is pretty similar but \n",
    "- when setting up the model object, you don't tell it what data to put into the model\n",
    "- you call the model object, and then fit it on data, with `model.fit(X,y)`\n",
    "- it doesn't have the nice summary tables"
   ]
  },
  {
   "cell_type": "code",
   "execution_count": 4,
   "metadata": {},
   "outputs": [
    {
     "name": "stdout",
     "output_type": "stream",
     "text": [
      "INTERCEPT: 8.452511832951718\n",
      "COEFS: [0.         1.68193567]\n"
     ]
    }
   ],
   "source": [
    "from sklearn.linear_model import LinearRegression\n",
    "\n",
    "y = diamonds2['lprice']                   # pick y\n",
    "X = diamonds2[['const','lcarat']]         # set up all your X vars as a matrix\n",
    "\n",
    "# NOTICE I EXPLICITLY GIVE X A CONSTANT SO IT FITS AN INTERCEPT\n",
    "\n",
    "model3 = LinearRegression()               # set up the model object (but don't tell sklearn what data it gets!)   \n",
    "results3 = model3.fit(X,y)                # fit it, and tell it what data to fit on\n",
    "print('INTERCEPT:', results3.intercept_)  # to get the coefficients, you print out the intercept\n",
    "print('COEFS:', results3.coef_)           # and the other coefficients separately (yuck)\n",
    "y_predicted3 = results3.predict(X)        # get predicted y values\n",
    "residuals3 = y - y_predicted3             # get residuals\n"
   ]
  },
  {
   "cell_type": "markdown",
   "metadata": {},
   "source": [
    "```{admonition} That's so much uglier. Why use sklearn? \n",
    ":class: warning\n",
    "\n",
    "Because `sklearn` is the go-to for training models using more sophisticated ML ideas (which we will talk about some later in the course!). Two nice walkthroughs:\n",
    "- [This guide from the PythonDataScienceHandbook](https://jakevdp.github.io/PythonDataScienceHandbook/05.06-linear-regression.html) (you can use different data though)\n",
    "- The \"Linear Regression\" section [here](https://becominghuman.ai/linear-regression-in-python-with-pandas-scikit-learn-72574a2ec1a5) shows how you can run regressions on training samples and test them out of sample\n",
    "```"
   ]
  },
  {
   "cell_type": "markdown",
   "metadata": {},
   "source": [
    "## Plotting the regression fit \n",
    "\n",
    "Once you save the predicted values ($\\hat{y}$), it's easy to add it to a plot:"
   ]
  },
  {
   "cell_type": "code",
   "execution_count": 5,
   "metadata": {},
   "outputs": [
    {
     "data": {
      "image/png": "[encoded data removed]",
      "text/plain": [
       "<Figure size 432x288 with 1 Axes>"
      ]
     },
     "metadata": {
      "needs_background": "light"
     },
     "output_type": "display_data"
    }
   ],
   "source": [
    "import matplotlib.pyplot as plt\n",
    "\n",
    "# step 1: plot our data as you want \n",
    "sns.scatterplot(x='lcarat',y='lprice',\n",
    "                data=diamonds2.sample(500,random_state=20)) # sampled just to avoid overplotting\n",
    "\n",
    "# step 2: add the fitted regression line (the real X values and the predicted y values)\n",
    "sns.lineplot(x=diamonds2['lcarat'],y=y_predicted1,color='red')\n",
    "\n",
    "plt.show()\n"
   ]
  },
  {
   "cell_type": "markdown",
   "metadata": {},
   "source": [
    "```{note}\n",
    "`sns.lmplot` and `sns.regplot` will put a regression line on a scatterplot without having to set up and run a regression, but they also overplot the points when you have a lot of data. That's why I used the approach above - scatterplot a subsample of the data and then overlay the regression line. \n",
    "\n",
    "One other alternative is to use `sns.lmplot` and `sns.regplot`, but use the `x_bins` parameter to report a \"binned scatterplot\". Check it out if you're curious. \n",
    "```"
   ]
  },
  {
   "cell_type": "markdown",
   "metadata": {},
   "source": [
    "## Including dummy variables\n",
    "\n",
    "Suppose you started by estimating the price of diamonds as a function of carats\n",
    "\n",
    "$$\n",
    "\\log(\\text{price})=a+\\beta_0 \\log(\\text{carat}) +u\n",
    "$$\n",
    "\n",
    "but you realize it will be different for ideal cut diamonds. That is, a 1 carat diamond might cost \\$1,000, but if it's ideal, it's an extra \\$500 dollars.\n",
    "\n",
    "$$\n",
    "\\log(\\text{price})=\n",
    "    \\begin{cases}\n",
    "      a+\\beta_0 \\log(\\text{carat}) + \\beta_1 +u, & \\text{if ideal cut}  \\\\\n",
    "      a+\\beta_0 \\log(\\text{carat}) +u, & \\text{otherwise}\n",
    "    \\end{cases} \n",
    "$$\n",
    "\n",
    "Notice that $\\beta_0$ in this model are the same for ideal and non-ideal. \n",
    "\n",
    "```{tip}\n",
    "**Here is how you run this test: You just add the dummy variable as a new variable in the formula!**\n",
    "```"
   ]
  },
  {
   "cell_type": "code",
   "execution_count": 6,
   "metadata": {
    "tags": []
   },
   "outputs": [
    {
     "name": "stdout",
     "output_type": "stream",
     "text": [
      "                            OLS Regression Results                            \n",
      "==============================================================================\n",
      "Dep. Variable:                 lprice   R-squared:                       0.936\n",
      "Model:                            OLS   Adj. R-squared:                  0.936\n",
      "Method:                 Least Squares   F-statistic:                 3.914e+05\n",
      "Date:                Wed, 24 Mar 2021   Prob (F-statistic):               0.00\n",
      "Time:                        22:06:44   Log-Likelihood:                -3136.4\n",
      "No. Observations:               53797   AIC:                             6279.\n",
      "Df Residuals:                   53794   BIC:                             6306.\n",
      "Df Model:                           2                                         \n",
      "Covariance Type:            nonrobust                                         \n",
      "=================================================================================\n",
      "                    coef    std err          t      P>|t|      [0.025      0.975]\n",
      "---------------------------------------------------------------------------------\n",
      "Intercept         8.4182      0.002   5415.779      0.000       8.415       8.421\n",
      "ideal[T.True]     0.1000      0.002     43.662      0.000       0.096       0.105\n",
      "lcarat            1.6963      0.002    878.286      0.000       1.692       1.700\n",
      "==============================================================================\n",
      "Omnibus:                      794.680   Durbin-Watson:                   1.241\n",
      "Prob(Omnibus):                  0.000   Jarque-Bera (JB):             1394.941\n",
      "Skew:                           0.101   Prob(JB):                    1.24e-303\n",
      "Kurtosis:                       3.763   Cond. No.                         2.67\n",
      "==============================================================================\n",
      "\n",
      "Notes:\n",
      "[1] Standard Errors assume that the covariance matrix of the errors is correctly specified.\n"
     ]
    }
   ],
   "source": [
    "# ideal is a dummy variable = 1 if ideal and 0 if not ideal\n",
    "print(sm_ols('lprice ~ lcarat + ideal', data=diamonds2).fit().summary())\n"
   ]
  },
  {
   "cell_type": "markdown",
   "metadata": {},
   "source": [
    "<img src=https://media.giphy.com/media/zcCGBRQshGdt6/source.gif width=\"400\">\n"
   ]
  },
  {
   "cell_type": "markdown",
   "metadata": {},
   "source": [
    "## Including categorical variables\n",
    "\n",
    "Dummy variables take on two values (on/off, True/False, 0/1). Categorical variables can take on many levels. \"Industry\" and \"State\" are typical categorical variables in finance applications.\n",
    "\n",
    "$$\n",
    "\\log(\\text{price})=\n",
    "    \\begin{cases}\n",
    "      a+\\beta_0 \\log(\\text{carat}) + \\beta_1 +u, & \\text{if premium cut}  \\\\\n",
    "      a+\\beta_0 \\log(\\text{carat}) + \\beta_2 +u, & \\text{if very good cut}  \\\\\n",
    "      a+\\beta_0 \\log(\\text{carat}) + \\beta_3 +u, & \\text{if good cut}  \\\\\n",
    "      a+\\beta_0 \\log(\\text{carat}) + \\beta_4 +u, & \\text{if fair cut}  \\\\\n",
    "      a+\\beta_0 \\log(\\text{carat}) +u, & \\text{otherwise (i.e. ideal)}\n",
    "    \\end{cases} \n",
    "$$\n",
    "\n",
    "`sm_ols` also processes categorical variables easily!\n",
    "\n",
    "```{tip}\n",
    "**Here is how you run this test: You just add the categorical variable as a new variable in the formula!**\n",
    "```\n",
    "\n",
    "```{warning}\n",
    "WARNING 1: A good idea is to **ALWAYS** put your categorical variable inside of \"C()\" like below. This tells statsmodels that the variable should be treated as a categorical variable EVEN IF it is a number. (Which would otherwise be treated like a number.)\n",
    "```\n",
    "\n",
    "```{warning}\n",
    "WARNING 2: You don't create a dummy variable for all the categories! As long as you include a constant in the regression ($a$), one of the categories is covered by the constant. Above, \"ideal\" is captured by the intercept. \n",
    "\n",
    "And if you look at the results of the next regression, the \"ideal\" cut level doesn't have a coefficient. **Statsmodels** automatically drops one of the categories when you use the formula approach. Nice!!!\n",
    "\n",
    "But if you manually set up the regression in statsmodels or sklearn, you have to drop one level yourself!!!\n",
    "```\n"
   ]
  },
  {
   "cell_type": "code",
   "execution_count": 7,
   "metadata": {
    "tags": []
   },
   "outputs": [
    {
     "name": "stdout",
     "output_type": "stream",
     "text": [
      "                            OLS Regression Results                            \n",
      "==============================================================================\n",
      "Dep. Variable:                 lprice   R-squared:                       0.937\n",
      "Model:                            OLS   Adj. R-squared:                  0.937\n",
      "Method:                 Least Squares   F-statistic:                 1.613e+05\n",
      "Date:                Wed, 24 Mar 2021   Prob (F-statistic):               0.00\n",
      "Time:                        22:06:44   Log-Likelihood:                -2389.9\n",
      "No. Observations:               53797   AIC:                             4792.\n",
      "Df Residuals:                   53791   BIC:                             4845.\n",
      "Df Model:                           5                                         \n",
      "Covariance Type:            nonrobust                                         \n",
      "=======================================================================================\n",
      "                          coef    std err          t      P>|t|      [0.025      0.975]\n",
      "---------------------------------------------------------------------------------------\n",
      "Intercept               8.5209      0.002   4281.488      0.000       8.517       8.525\n",
      "C(cut)[T.Premium]      -0.0790      0.003    -28.249      0.000      -0.084      -0.074\n",
      "C(cut)[T.Very Good]    -0.0770      0.003    -26.656      0.000      -0.083      -0.071\n",
      "C(cut)[T.Good]         -0.1543      0.004    -38.311      0.000      -0.162      -0.146\n",
      "C(cut)[T.Fair]         -0.3111      0.007    -46.838      0.000      -0.324      -0.298\n",
      "lcarat                  1.7014      0.002    889.548      0.000       1.698       1.705\n",
      "==============================================================================\n",
      "Omnibus:                      792.280   Durbin-Watson:                   1.261\n",
      "Prob(Omnibus):                  0.000   Jarque-Bera (JB):             1178.654\n",
      "Skew:                           0.168   Prob(JB):                    1.14e-256\n",
      "Kurtosis:                       3.643   Cond. No.                         7.20\n",
      "==============================================================================\n",
      "\n",
      "Notes:\n",
      "[1] Standard Errors assume that the covariance matrix of the errors is correctly specified.\n"
     ]
    }
   ],
   "source": [
    "print(sm_ols('lprice ~ lcarat + C(cut)', data=diamonds2).fit().summary())"
   ]
  },
  {
   "cell_type": "markdown",
   "metadata": {},
   "source": [
    "<img src=https://media.giphy.com/media/NaboQwhxK3gMU/source.gif width=\"400\">\n"
   ]
  },
  {
   "cell_type": "markdown",
   "metadata": {},
   "source": [
    "## Including interaction terms\n",
    "\n",
    "Suppose that an ideal cut diamond doesn't just add a fixed dollar value to the diamond. Perhaps it also changes the value of having a larger diamond. You might say that \n",
    "- A high quality cut is even more valuable for a larger diamond than it is for a small diamond. (\"A great cut makes a diamond sparkle, but it's hard to see sparkle on a tiny diamond no matter what.\")\n",
    "- In other words, the effect of carats depends on the cut and visa versa\n",
    "- In other words, \"the cut variable **interacts** with the carat variable\"\n",
    "- So you might say that, \"a better cut changes the slope/coefficient of carat\"\n",
    "- Or equivalently, \"a better cut changes the return on a larger carat\"\n",
    "\n",
    "Graphically, it's easy to see, as `sns.lmplot` by default gives each cut a unique slope on carats:"
   ]
  },
  {
   "cell_type": "code",
   "execution_count": 8,
   "metadata": {},
   "outputs": [
    {
     "data": {
      "image/png": "[encoded data removed]",
      "text/plain": [
       "<Figure size 432x288 with 1 Axes>"
      ]
     },
     "metadata": {
      "needs_background": "light"
     },
     "output_type": "display_data"
    }
   ],
   "source": [
    "import matplotlib.pyplot as plt\n",
    "\n",
    "# add reg lines to plot\n",
    "fig, ax = plt.subplots()\n",
    "ax = sns.regplot(data=diamonds2.query('cut == \"Fair\"'),\n",
    "                 y='lprice',x='lcarat',scatter=False,ci=None) \n",
    "ax = sns.regplot(data=diamonds2.query('cut == \"Ideal\"'),\n",
    "                 y='lprice',x='lcarat',scatter=False,ci=None) \n",
    "\n",
    "# scatter\n",
    "sns.scatterplot(data=diamonds2.groupby('cut').sample(80,random_state=99).query('cut in [\"Ideal\",\"Fair\"]'),\n",
    "                x='lcarat',y='lprice',hue='ideal',ax=ax)\n",
    "plt.show()\n"
   ]
  },
  {
   "cell_type": "markdown",
   "metadata": {},
   "source": [
    "Those two different lines above are estimated by\n",
    "\n",
    "$$\n",
    "\\log(\\text{price})= a+ \\beta_0 \\log(\\text{carat}) + \\beta_1 \\text{Ideal} + \\beta_2\\log(\\text{carat})\\cdot \\text{Ideal}\n",
    "$$\n",
    "\n",
    "If you plug in 1 for $ideal$, you get the line for ideal diamonds as\n",
    "\n",
    "$$\n",
    "\\log(\\text{price})= a+ \\beta_1 +(\\beta_0 + \\beta_2) \\log(\\text{carat}) \n",
    "$$\n",
    "\n",
    "If you plug in 0 for $ideal$, you get the line for fair diamonds as\n",
    "\n",
    "$$\n",
    "\\log(\\text{price})= a+ \\beta_0 \\log(\\text{carat}) \n",
    "$$\n",
    "\n",
    "So, by including that interaction term, you get that the slope on carats is different for Ideal than Fair diamonds.\n",
    "\n",
    "````{tip}\n",
    "**Here is how you run this test: You just add the two variables as a new variable in the formula, along with one term where they are both multiplied!**\n",
    "\n",
    "````"
   ]
  },
  {
   "cell_type": "code",
   "execution_count": 9,
   "metadata": {
    "tags": [
     "hide-output"
    ]
   },
   "outputs": [
    {
     "data": {
      "text/html": [
       "<table class=\"simpletable\">\n",
       "<caption>OLS Regression Results</caption>\n",
       "<tr>\n",
       "  <th>Dep. Variable:</th>         <td>lprice</td>      <th>  R-squared:         </th> <td>   0.930</td> \n",
       "</tr>\n",
       "<tr>\n",
       "  <th>Model:</th>                   <td>OLS</td>       <th>  Adj. R-squared:    </th> <td>   0.930</td> \n",
       "</tr>\n",
       "<tr>\n",
       "  <th>Method:</th>             <td>Least Squares</td>  <th>  F-statistic:       </th> <td>1.022e+05</td>\n",
       "</tr>\n",
       "<tr>\n",
       "  <th>Date:</th>             <td>Wed, 24 Mar 2021</td> <th>  Prob (F-statistic):</th>  <td>  0.00</td>  \n",
       "</tr>\n",
       "<tr>\n",
       "  <th>Time:</th>                 <td>22:06:44</td>     <th>  Log-Likelihood:    </th> <td> -1650.8</td> \n",
       "</tr>\n",
       "<tr>\n",
       "  <th>No. Observations:</th>      <td> 23106</td>      <th>  AIC:               </th> <td>   3310.</td> \n",
       "</tr>\n",
       "<tr>\n",
       "  <th>Df Residuals:</th>          <td> 23102</td>      <th>  BIC:               </th> <td>   3342.</td> \n",
       "</tr>\n",
       "<tr>\n",
       "  <th>Df Model:</th>              <td>     3</td>      <th>                     </th>     <td> </td>    \n",
       "</tr>\n",
       "<tr>\n",
       "  <th>Covariance Type:</th>      <td>nonrobust</td>    <th>                     </th>     <td> </td>    \n",
       "</tr>\n",
       "</table>\n",
       "<table class=\"simpletable\">\n",
       "<tr>\n",
       "            <td></td>              <th>coef</th>     <th>std err</th>      <th>t</th>      <th>P>|t|</th>  <th>[0.025</th>    <th>0.975]</th>  \n",
       "</tr>\n",
       "<tr>\n",
       "  <th>Intercept</th>            <td>    8.1954</td> <td>    0.007</td> <td> 1232.871</td> <td> 0.000</td> <td>    8.182</td> <td>    8.208</td>\n",
       "</tr>\n",
       "<tr>\n",
       "  <th>ideal[T.True]</th>        <td>    0.3302</td> <td>    0.007</td> <td>   46.677</td> <td> 0.000</td> <td>    0.316</td> <td>    0.344</td>\n",
       "</tr>\n",
       "<tr>\n",
       "  <th>lcarat</th>               <td>    1.5282</td> <td>    0.015</td> <td>  103.832</td> <td> 0.000</td> <td>    1.499</td> <td>    1.557</td>\n",
       "</tr>\n",
       "<tr>\n",
       "  <th>lcarat:ideal[T.True]</th> <td>    0.1822</td> <td>    0.015</td> <td>   12.101</td> <td> 0.000</td> <td>    0.153</td> <td>    0.212</td>\n",
       "</tr>\n",
       "</table>\n",
       "<table class=\"simpletable\">\n",
       "<tr>\n",
       "  <th>Omnibus:</th>       <td>117.253</td> <th>  Durbin-Watson:     </th> <td>   1.231</td>\n",
       "</tr>\n",
       "<tr>\n",
       "  <th>Prob(Omnibus):</th> <td> 0.000</td>  <th>  Jarque-Bera (JB):  </th> <td> 145.473</td>\n",
       "</tr>\n",
       "<tr>\n",
       "  <th>Skew:</th>          <td> 0.097</td>  <th>  Prob(JB):          </th> <td>2.58e-32</td>\n",
       "</tr>\n",
       "<tr>\n",
       "  <th>Kurtosis:</th>      <td> 3.337</td>  <th>  Cond. No.          </th> <td>    19.6</td>\n",
       "</tr>\n",
       "</table><br/><br/>Notes:<br/>[1] Standard Errors assume that the covariance matrix of the errors is correctly specified."
      ],
      "text/plain": [
       "<class 'statsmodels.iolib.summary.Summary'>\n",
       "\"\"\"\n",
       "                            OLS Regression Results                            \n",
       "==============================================================================\n",
       "Dep. Variable:                 lprice   R-squared:                       0.930\n",
       "Model:                            OLS   Adj. R-squared:                  0.930\n",
       "Method:                 Least Squares   F-statistic:                 1.022e+05\n",
       "Date:                Wed, 24 Mar 2021   Prob (F-statistic):               0.00\n",
       "Time:                        22:06:44   Log-Likelihood:                -1650.8\n",
       "No. Observations:               23106   AIC:                             3310.\n",
       "Df Residuals:                   23102   BIC:                             3342.\n",
       "Df Model:                           3                                         \n",
       "Covariance Type:            nonrobust                                         \n",
       "========================================================================================\n",
       "                           coef    std err          t      P>|t|      [0.025      0.975]\n",
       "----------------------------------------------------------------------------------------\n",
       "Intercept                8.1954      0.007   1232.871      0.000       8.182       8.208\n",
       "ideal[T.True]            0.3302      0.007     46.677      0.000       0.316       0.344\n",
       "lcarat                   1.5282      0.015    103.832      0.000       1.499       1.557\n",
       "lcarat:ideal[T.True]     0.1822      0.015     12.101      0.000       0.153       0.212\n",
       "==============================================================================\n",
       "Omnibus:                      117.253   Durbin-Watson:                   1.231\n",
       "Prob(Omnibus):                  0.000   Jarque-Bera (JB):              145.473\n",
       "Skew:                           0.097   Prob(JB):                     2.58e-32\n",
       "Kurtosis:                       3.337   Cond. No.                         19.6\n",
       "==============================================================================\n",
       "\n",
       "Notes:\n",
       "[1] Standard Errors assume that the covariance matrix of the errors is correctly specified.\n",
       "\"\"\""
      ]
     },
     "execution_count": 9,
     "metadata": {},
     "output_type": "execute_result"
    }
   ],
   "source": [
    "# you can include the interaction of x and z by adding \"+x*z\" in the spec, like:\n",
    "sm_ols('lprice ~ lcarat + ideal + lcarat*ideal', data=diamonds2.query('cut in [\"Fair\",\"Ideal\"]')).fit().summary()\n"
   ]
  },
  {
   "cell_type": "markdown",
   "metadata": {},
   "source": [
    "This shows that a 1% increase in carats is associated with a 1.52% increase in price for fair diamonds, but a 1.71% increase for ideal diamonds (1.52+0.18).\n",
    "\n",
    "Thus: The return on carats is different (and higher) for better cut diamonds!"
   ]
  }
 ],
 "metadata": {
  "celltoolbar": "Tags",
  "kernelspec": {
   "display_name": "Python 3 (ipykernel)",
   "language": "python",
   "name": "python3"
  },
  "language_info": {
   "codemirror_mode": {
    "name": "ipython",
    "version": 3
   },
   "file_extension": ".py",
   "mimetype": "text/x-python",
   "name": "python",
   "nbconvert_exporter": "python",
   "pygments_lexer": "ipython3",
   "version": "3.8.12"
  }
 },
 "nbformat": 4,
 "nbformat_minor": 4
}
