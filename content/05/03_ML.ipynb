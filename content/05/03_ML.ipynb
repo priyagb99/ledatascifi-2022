{
 "cells": [
  {
   "cell_type": "markdown",
   "metadata": {},
   "source": [
    "# Intro to Machine Learning\n"
   ]
  },
  {
   "cell_type": "markdown",
   "metadata": {},
   "source": [
    "Within [the general process of modeling](01b_model_process), this chapter focuses primarily on what we do after we define the problem, think about the question and data, and get the data.\n",
    "\n",
    "> 1. Start with an interesting question or problem\n",
    "> 2. What type of question are you asking?\n",
    "> 3. Think about data: [...]\n",
    "> \n",
    "> **After step 3: Actually develop your ML model. That's this chapter.**\n",
    "\n",
    "The workflow for the actual development of an ML model is:\n",
    "\n",
    "```{image} img/flowchart.png\n",
    ":alt: flowchart\n",
    ":width: 500px\n",
    "```\n"
   ]
  },
  {
   "cell_type": "markdown",
   "metadata": {},
   "source": [
    "This chapter will discuss this modeling process backwards, under a framework mostly focused on \"supervised\" prediction problems. \n",
    "\n",
    "Working backwards will help keep our focus on **why** we are doing certain steps and the big picture, rather than getting mired in the weeds, which can lead to [poor or disastrous analysis](01a_MLgonewrong). \n",
    "\n",
    "After several subchapters discussing the issues, we will get into coding. \n",
    "\n",
    "```{tip}\n",
    "\n",
    "Recommended reading:\n",
    "- [\"Machine learning, explained\", which provides a nice overview of ML.](https://mitsloan.mit.edu/ideas-made-to-matter/machine-learning-explained)\n",
    "- [PythonDataScienceHandbook](https://jakevdp.github.io/PythonDataScienceHandbook/05.01-what-is-machine-learning.html) has a nice introductory list of example applications for ML techniques\n",
    "- The [`sklearn` example page](https://scikit-learn.org/stable/auto_examples/index.html) has a rather comprehensive set of examples with code!\n",
    "\n",
    "```\n",
    "\n"
   ]
  }
 ],
 "metadata": {
  "kernelspec": {
   "display_name": "Python 3 (ipykernel)",
   "language": "python",
   "name": "python3"
  },
  "language_info": {
   "codemirror_mode": {
    "name": "ipython",
    "version": 3
   },
   "file_extension": ".py",
   "mimetype": "text/x-python",
   "name": "python",
   "nbconvert_exporter": "python",
   "pygments_lexer": "ipython3",
   "version": "3.8.12"
  }
 },
 "nbformat": 4,
 "nbformat_minor": 4
}
